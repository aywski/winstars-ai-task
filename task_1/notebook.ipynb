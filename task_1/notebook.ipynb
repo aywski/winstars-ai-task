{
 "cells": [
  {
   "cell_type": "markdown",
   "metadata": {},
   "source": [
    "#### Import necessary libraries and downloading MNIST dataset"
   ]
  },
  {
   "cell_type": "code",
   "execution_count": 1,
   "metadata": {},
   "outputs": [],
   "source": [
    "import numpy as np\n",
    "import matplotlib.pyplot as plt\n",
    "from sklearn.metrics import accuracy_score\n",
    "from tensorflow.keras.datasets import mnist\n",
    "from mnist_classifier import MnistClassifier"
   ]
  },
  {
   "cell_type": "code",
   "execution_count": 2,
   "metadata": {},
   "outputs": [],
   "source": [
    "(X_train, y_train), (X_test, y_test) = mnist.load_data()"
   ]
  },
  {
   "cell_type": "markdown",
   "metadata": {},
   "source": [
    "#### Normalize the data and reshape to the required size for CNN"
   ]
  },
  {
   "cell_type": "code",
   "execution_count": 3,
   "metadata": {},
   "outputs": [
    {
     "data": {
      "image/png": "[encoded data removed]",
      "text/plain": [
       "<Figure size 1500x300 with 5 Axes>"
      ]
     },
     "metadata": {},
     "output_type": "display_data"
    }
   ],
   "source": [
    "# normalize the data to 1 color channel\n",
    "X_train = X_train / 255.0\n",
    "X_test = X_test / 255.0\n",
    "\n",
    "# reshape data for CNN 28x28x1\n",
    "X_train_cnn = X_train.reshape(-1, 28, 28, 1)\n",
    "X_test_cnn = X_test.reshape(-1, 28, 28, 1)\n",
    "\n",
    "\n",
    "fig, axes = plt.subplots(1, 5, figsize=(15, 3))\n",
    "for i in range(5):\n",
    "    axes[i].imshow(X_train[i], cmap='gray') \n",
    "    axes[i].set_title(f\"Label: {y_train[i]}\")\n",
    "    axes[i].axis('off')\n",
    "plt.show()"
   ]
  },
  {
   "cell_type": "markdown",
   "metadata": {},
   "source": [
    "#### Random Forest Algorithm"
   ]
  },
  {
   "cell_type": "code",
   "execution_count": 11,
   "metadata": {},
   "outputs": [
    {
     "name": "stderr",
     "output_type": "stream",
     "text": [
      "[Parallel(n_jobs=1)]: Done  49 tasks      | elapsed:   17.4s\n",
      "[Parallel(n_jobs=1)]: Done 199 tasks      | elapsed:  1.2min\n",
      "[Parallel(n_jobs=1)]: Done 449 tasks      | elapsed:  2.6min\n",
      "[Parallel(n_jobs=1)]: Done  49 tasks      | elapsed:    0.1s\n",
      "[Parallel(n_jobs=1)]: Done 199 tasks      | elapsed:    0.5s\n"
     ]
    },
    {
     "name": "stdout",
     "output_type": "stream",
     "text": [
      "Random Forest Accuracy: 0.9728\n"
     ]
    },
    {
     "name": "stderr",
     "output_type": "stream",
     "text": [
      "[Parallel(n_jobs=1)]: Done 449 tasks      | elapsed:    1.3s\n"
     ]
    }
   ],
   "source": [
    "rf_classifier = MnistClassifier(algorithm='rf')\n",
    "rf_classifier.train(X_train.reshape(-1, 28*28), y_train)\n",
    "rf_preds = rf_classifier.predict(X_test.reshape(-1, 28*28))\n",
    "rf_accuracy = accuracy_score(y_test, rf_preds)\n",
    "print(f\"Random Forest Accuracy: {rf_accuracy:.4f}\")"
   ]
  },
  {
   "cell_type": "markdown",
   "metadata": {},
   "source": [
    "#### Multi-Layer Perceptron Classifier Algorithm (Feed-Forward Neural Network)"
   ]
  },
  {
   "cell_type": "code",
   "execution_count": 12,
   "metadata": {},
   "outputs": [
    {
     "name": "stdout",
     "output_type": "stream",
     "text": [
      "Iteration 1, loss = 0.43239823\n",
      "Validation score: 0.930167\n",
      "Iteration 2, loss = 0.19995215\n",
      "Validation score: 0.948833\n",
      "Iteration 3, loss = 0.14715021\n",
      "Validation score: 0.956000\n",
      "Iteration 4, loss = 0.11727905\n",
      "Validation score: 0.960667\n",
      "Iteration 5, loss = 0.09645909\n",
      "Validation score: 0.965167\n",
      "Iteration 6, loss = 0.08119933\n",
      "Validation score: 0.966500\n",
      "Iteration 7, loss = 0.06951342\n",
      "Validation score: 0.970000\n",
      "Iteration 8, loss = 0.06043280\n",
      "Validation score: 0.971167\n",
      "Iteration 9, loss = 0.05213881\n",
      "Validation score: 0.972667\n",
      "Iteration 10, loss = 0.04641764\n",
      "Validation score: 0.974000\n",
      "Iteration 11, loss = 0.03925187\n",
      "Validation score: 0.974333\n",
      "Iteration 12, loss = 0.03492323\n",
      "Validation score: 0.973333\n",
      "Iteration 13, loss = 0.03135765\n",
      "Validation score: 0.972333\n",
      "Iteration 14, loss = 0.02692487\n",
      "Validation score: 0.974833\n",
      "Iteration 15, loss = 0.02404029\n",
      "Validation score: 0.975333\n",
      "Iteration 16, loss = 0.02138394\n",
      "Validation score: 0.975500\n",
      "Iteration 17, loss = 0.01859612\n",
      "Validation score: 0.976667\n",
      "Iteration 18, loss = 0.01672718\n",
      "Validation score: 0.976000\n",
      "Iteration 19, loss = 0.01427490\n",
      "Validation score: 0.975667\n",
      "Iteration 20, loss = 0.01293461\n",
      "Validation score: 0.977000\n",
      "Iteration 21, loss = 0.01063375\n",
      "Validation score: 0.976000\n",
      "Iteration 22, loss = 0.00974787\n",
      "Validation score: 0.976833\n",
      "Iteration 23, loss = 0.00862000\n",
      "Validation score: 0.975667\n",
      "Iteration 24, loss = 0.00768459\n",
      "Validation score: 0.976333\n",
      "Iteration 25, loss = 0.00632418\n",
      "Validation score: 0.977500\n",
      "Iteration 26, loss = 0.00587987\n",
      "Validation score: 0.976833\n",
      "Iteration 27, loss = 0.00527067\n",
      "Validation score: 0.975667\n",
      "Iteration 28, loss = 0.00488414\n",
      "Validation score: 0.976333\n",
      "Iteration 29, loss = 0.00440222\n",
      "Validation score: 0.978000\n",
      "Iteration 30, loss = 0.00438912\n",
      "Validation score: 0.978000\n",
      "Iteration 31, loss = 0.00345747\n",
      "Validation score: 0.977167\n",
      "Iteration 32, loss = 0.00296236\n",
      "Validation score: 0.978333\n",
      "Iteration 33, loss = 0.00236288\n",
      "Validation score: 0.978333\n",
      "Iteration 34, loss = 0.00220108\n",
      "Validation score: 0.977000\n",
      "Iteration 35, loss = 0.00195834\n",
      "Validation score: 0.977833\n",
      "Iteration 36, loss = 0.00541193\n",
      "Validation score: 0.970667\n",
      "Iteration 37, loss = 0.00962168\n",
      "Validation score: 0.975667\n",
      "Iteration 38, loss = 0.00231486\n",
      "Validation score: 0.977167\n",
      "Iteration 39, loss = 0.00164106\n",
      "Validation score: 0.976833\n",
      "Iteration 40, loss = 0.00132237\n",
      "Validation score: 0.977167\n",
      "Iteration 41, loss = 0.00122523\n",
      "Validation score: 0.978167\n",
      "Iteration 42, loss = 0.00117976\n",
      "Validation score: 0.978333\n",
      "Iteration 43, loss = 0.00112388\n",
      "Validation score: 0.977500\n",
      "Validation score did not improve more than tol=0.000100 for 10 consecutive epochs. Stopping.\n",
      "Feed-Forward Neural Network Accuracy: 0.9793\n"
     ]
    }
   ],
   "source": [
    "nn_classifier = MnistClassifier(algorithm='nn')\n",
    "nn_classifier.train(X_train.reshape(-1, 28*28), y_train)\n",
    "nn_preds = nn_classifier.predict(X_test.reshape(-1, 28*28))\n",
    "nn_accuracy = accuracy_score(y_test, nn_preds)\n",
    "print(f\"Feed-Forward Neural Network Accuracy: {nn_accuracy:.4f}\")"
   ]
  },
  {
   "cell_type": "markdown",
   "metadata": {},
   "source": [
    "#### Convolutional Neural Network"
   ]
  },
  {
   "cell_type": "code",
   "execution_count": 4,
   "metadata": {},
   "outputs": [
    {
     "name": "stdout",
     "output_type": "stream",
     "text": [
      "Epoch 1/25\n",
      "\u001b[1m469/469\u001b[0m \u001b[32m━━━━━━━━━━━━━━━━━━━━\u001b[0m\u001b[37m\u001b[0m \u001b[1m24s\u001b[0m 47ms/step - accuracy: 0.7229 - loss: 0.7977\n",
      "Epoch 2/25\n",
      "\u001b[1m469/469\u001b[0m \u001b[32m━━━━━━━━━━━━━━━━━━━━\u001b[0m\u001b[37m\u001b[0m \u001b[1m21s\u001b[0m 44ms/step - accuracy: 0.9717 - loss: 0.0950\n",
      "Epoch 3/25\n",
      "\u001b[1m469/469\u001b[0m \u001b[32m━━━━━━━━━━━━━━━━━━━━\u001b[0m\u001b[37m\u001b[0m \u001b[1m21s\u001b[0m 44ms/step - accuracy: 0.9824 - loss: 0.0619\n",
      "Epoch 4/25\n",
      "\u001b[1m469/469\u001b[0m \u001b[32m━━━━━━━━━━━━━━━━━━━━\u001b[0m\u001b[37m\u001b[0m \u001b[1m21s\u001b[0m 45ms/step - accuracy: 0.9859 - loss: 0.0495\n",
      "Epoch 5/25\n",
      "\u001b[1m469/469\u001b[0m \u001b[32m━━━━━━━━━━━━━━━━━━━━\u001b[0m\u001b[37m\u001b[0m \u001b[1m21s\u001b[0m 45ms/step - accuracy: 0.9874 - loss: 0.0448\n",
      "Epoch 6/25\n",
      "\u001b[1m469/469\u001b[0m \u001b[32m━━━━━━━━━━━━━━━━━━━━\u001b[0m\u001b[37m\u001b[0m \u001b[1m21s\u001b[0m 45ms/step - accuracy: 0.9898 - loss: 0.0351\n",
      "Epoch 7/25\n",
      "\u001b[1m469/469\u001b[0m \u001b[32m━━━━━━━━━━━━━━━━━━━━\u001b[0m\u001b[37m\u001b[0m \u001b[1m22s\u001b[0m 46ms/step - accuracy: 0.9915 - loss: 0.0317\n",
      "Epoch 8/25\n",
      "\u001b[1m469/469\u001b[0m \u001b[32m━━━━━━━━━━━━━━━━━━━━\u001b[0m\u001b[37m\u001b[0m \u001b[1m21s\u001b[0m 45ms/step - accuracy: 0.9923 - loss: 0.0260\n",
      "Epoch 9/25\n",
      "\u001b[1m469/469\u001b[0m \u001b[32m━━━━━━━━━━━━━━━━━━━━\u001b[0m\u001b[37m\u001b[0m \u001b[1m21s\u001b[0m 45ms/step - accuracy: 0.9926 - loss: 0.0278\n",
      "Epoch 10/25\n",
      "\u001b[1m469/469\u001b[0m \u001b[32m━━━━━━━━━━━━━━━━━━━━\u001b[0m\u001b[37m\u001b[0m \u001b[1m21s\u001b[0m 45ms/step - accuracy: 0.9931 - loss: 0.0230\n",
      "Epoch 11/25\n",
      "\u001b[1m469/469\u001b[0m \u001b[32m━━━━━━━━━━━━━━━━━━━━\u001b[0m\u001b[37m\u001b[0m \u001b[1m21s\u001b[0m 45ms/step - accuracy: 0.9939 - loss: 0.0208\n",
      "Epoch 12/25\n",
      "\u001b[1m469/469\u001b[0m \u001b[32m━━━━━━━━━━━━━━━━━━━━\u001b[0m\u001b[37m\u001b[0m \u001b[1m21s\u001b[0m 45ms/step - accuracy: 0.9943 - loss: 0.0204\n",
      "Epoch 13/25\n",
      "\u001b[1m469/469\u001b[0m \u001b[32m━━━━━━━━━━━━━━━━━━━━\u001b[0m\u001b[37m\u001b[0m \u001b[1m21s\u001b[0m 45ms/step - accuracy: 0.9944 - loss: 0.0198\n",
      "Epoch 14/25\n",
      "\u001b[1m469/469\u001b[0m \u001b[32m━━━━━━━━━━━━━━━━━━━━\u001b[0m\u001b[37m\u001b[0m \u001b[1m21s\u001b[0m 45ms/step - accuracy: 0.9946 - loss: 0.0187\n",
      "Epoch 15/25\n",
      "\u001b[1m469/469\u001b[0m \u001b[32m━━━━━━━━━━━━━━━━━━━━\u001b[0m\u001b[37m\u001b[0m \u001b[1m23s\u001b[0m 49ms/step - accuracy: 0.9952 - loss: 0.0165\n",
      "Epoch 16/25\n",
      "\u001b[1m469/469\u001b[0m \u001b[32m━━━━━━━━━━━━━━━━━━━━\u001b[0m\u001b[37m\u001b[0m \u001b[1m23s\u001b[0m 49ms/step - accuracy: 0.9951 - loss: 0.0169\n",
      "Epoch 17/25\n",
      "\u001b[1m469/469\u001b[0m \u001b[32m━━━━━━━━━━━━━━━━━━━━\u001b[0m\u001b[37m\u001b[0m \u001b[1m23s\u001b[0m 48ms/step - accuracy: 0.9945 - loss: 0.0203\n",
      "Epoch 18/25\n",
      "\u001b[1m469/469\u001b[0m \u001b[32m━━━━━━━━━━━━━━━━━━━━\u001b[0m\u001b[37m\u001b[0m \u001b[1m21s\u001b[0m 45ms/step - accuracy: 0.9959 - loss: 0.0139\n",
      "Epoch 19/25\n",
      "\u001b[1m469/469\u001b[0m \u001b[32m━━━━━━━━━━━━━━━━━━━━\u001b[0m\u001b[37m\u001b[0m \u001b[1m21s\u001b[0m 45ms/step - accuracy: 0.9962 - loss: 0.0141\n",
      "Epoch 20/25\n",
      "\u001b[1m469/469\u001b[0m \u001b[32m━━━━━━━━━━━━━━━━━━━━\u001b[0m\u001b[37m\u001b[0m \u001b[1m21s\u001b[0m 45ms/step - accuracy: 0.9954 - loss: 0.0161\n",
      "Epoch 21/25\n",
      "\u001b[1m469/469\u001b[0m \u001b[32m━━━━━━━━━━━━━━━━━━━━\u001b[0m\u001b[37m\u001b[0m \u001b[1m22s\u001b[0m 46ms/step - accuracy: 0.9965 - loss: 0.0119\n",
      "Epoch 22/25\n",
      "\u001b[1m469/469\u001b[0m \u001b[32m━━━━━━━━━━━━━━━━━━━━\u001b[0m\u001b[37m\u001b[0m \u001b[1m21s\u001b[0m 45ms/step - accuracy: 0.9957 - loss: 0.0142\n",
      "Epoch 23/25\n",
      "\u001b[1m469/469\u001b[0m \u001b[32m━━━━━━━━━━━━━━━━━━━━\u001b[0m\u001b[37m\u001b[0m \u001b[1m21s\u001b[0m 45ms/step - accuracy: 0.9952 - loss: 0.0146\n",
      "Epoch 24/25\n",
      "\u001b[1m469/469\u001b[0m \u001b[32m━━━━━━━━━━━━━━━━━━━━\u001b[0m\u001b[37m\u001b[0m \u001b[1m21s\u001b[0m 46ms/step - accuracy: 0.9959 - loss: 0.0133\n",
      "Epoch 25/25\n",
      "\u001b[1m469/469\u001b[0m \u001b[32m━━━━━━━━━━━━━━━━━━━━\u001b[0m\u001b[37m\u001b[0m \u001b[1m22s\u001b[0m 46ms/step - accuracy: 0.9964 - loss: 0.0128\n",
      "\u001b[1m313/313\u001b[0m \u001b[32m━━━━━━━━━━━━━━━━━━━━\u001b[0m\u001b[37m\u001b[0m \u001b[1m2s\u001b[0m 5ms/step\n",
      "CNN Accuracy: 0.9945\n"
     ]
    }
   ],
   "source": [
    "cnn_classifier = MnistClassifier(algorithm='cnn')\n",
    "cnn_classifier.train(X_train_cnn, y_train)\n",
    "cnn_preds = cnn_classifier.predict(X_test_cnn)\n",
    "cnn_accuracy = accuracy_score(y_test, cnn_preds)\n",
    "print(f\"CNN Accuracy: {cnn_accuracy:.4f}\")"
   ]
  },
  {
   "cell_type": "markdown",
   "metadata": {},
   "source": [
    "#### Adding noise to images to check for edge cases"
   ]
  },
  {
   "cell_type": "code",
   "execution_count": null,
   "metadata": {},
   "outputs": [
    {
     "name": "stdout",
     "output_type": "stream",
     "text": [
      "\u001b[1m1/1\u001b[0m \u001b[32m━━━━━━━━━━━━━━━━━━━━\u001b[0m\u001b[37m\u001b[0m \u001b[1m0s\u001b[0m 29ms/step\n",
      "\u001b[1m1/1\u001b[0m \u001b[32m━━━━━━━━━━━━━━━━━━━━\u001b[0m\u001b[37m\u001b[0m \u001b[1m0s\u001b[0m 30ms/step\n",
      "\u001b[1m1/1\u001b[0m \u001b[32m━━━━━━━━━━━━━━━━━━━━\u001b[0m\u001b[37m\u001b[0m \u001b[1m0s\u001b[0m 29ms/step\n",
      "\u001b[1m1/1\u001b[0m \u001b[32m━━━━━━━━━━━━━━━━━━━━\u001b[0m\u001b[37m\u001b[0m \u001b[1m0s\u001b[0m 30ms/step\n",
      "\u001b[1m1/1\u001b[0m \u001b[32m━━━━━━━━━━━━━━━━━━━━\u001b[0m\u001b[37m\u001b[0m \u001b[1m0s\u001b[0m 27ms/step\n",
      "\u001b[1m1/1\u001b[0m \u001b[32m━━━━━━━━━━━━━━━━━━━━\u001b[0m\u001b[37m\u001b[0m \u001b[1m0s\u001b[0m 27ms/step\n",
      "\u001b[1m1/1\u001b[0m \u001b[32m━━━━━━━━━━━━━━━━━━━━\u001b[0m\u001b[37m\u001b[0m \u001b[1m0s\u001b[0m 25ms/step\n",
      "\u001b[1m1/1\u001b[0m \u001b[32m━━━━━━━━━━━━━━━━━━━━\u001b[0m\u001b[37m\u001b[0m \u001b[1m0s\u001b[0m 26ms/step\n",
      "\u001b[1m1/1\u001b[0m \u001b[32m━━━━━━━━━━━━━━━━━━━━\u001b[0m\u001b[37m\u001b[0m \u001b[1m0s\u001b[0m 25ms/step\n",
      "\u001b[1m1/1\u001b[0m \u001b[32m━━━━━━━━━━━━━━━━━━━━\u001b[0m\u001b[37m\u001b[0m \u001b[1m0s\u001b[0m 28ms/step\n"
     ]
    },
    {
     "data": {
      "image/png": "[encoded data removed]",
      "text/plain": [
       "<Figure size 1500x200 with 10 Axes>"
      ]
     },
     "metadata": {},
     "output_type": "display_data"
    }
   ],
   "source": [
    "fig, axes = plt.subplots(1, 10, figsize=(15, 2))\n",
    "\n",
    "# 35% of noise to pictures\n",
    "noise = 0.35\n",
    "\n",
    "for i in range(10):\n",
    "    noisy_image = X_test[i] + np.random.normal(0, noise, X_test[i].shape)  # adding noise to picture\n",
    "    noisy_image = np.clip(noisy_image, 0, 1) \n",
    "\n",
    "    noisy_image_reshaped = noisy_image.reshape(1, 28, 28, 1)  \n",
    "    cnn_noisy_pred = cnn_classifier.predict(noisy_image_reshaped)\n",
    "\n",
    "    # visualization\n",
    "    axes[i].imshow(noisy_image, cmap='gray')\n",
    "    axes[i].axis('off')\n",
    "    axes[i].set_title(f\"True: {y_test[i]}\\nPred: {cnn_noisy_pred}\") \n",
    "\n",
    "plt.tight_layout()\n",
    "plt.show()"
   ]
  },
  {
   "cell_type": "markdown",
   "metadata": {},
   "source": [
    "#### Selected not obvious handwriting to check for edge cases"
   ]
  },
  {
   "cell_type": "code",
   "execution_count": 35,
   "metadata": {},
   "outputs": [
    {
     "name": "stdout",
     "output_type": "stream",
     "text": [
      "\u001b[1m1/1\u001b[0m \u001b[32m━━━━━━━━━━━━━━━━━━━━\u001b[0m\u001b[37m\u001b[0m \u001b[1m0s\u001b[0m 29ms/step\n",
      "\u001b[1m1/1\u001b[0m \u001b[32m━━━━━━━━━━━━━━━━━━━━\u001b[0m\u001b[37m\u001b[0m \u001b[1m0s\u001b[0m 28ms/step\n",
      "\u001b[1m1/1\u001b[0m \u001b[32m━━━━━━━━━━━━━━━━━━━━\u001b[0m\u001b[37m\u001b[0m \u001b[1m0s\u001b[0m 29ms/step\n",
      "\u001b[1m1/1\u001b[0m \u001b[32m━━━━━━━━━━━━━━━━━━━━\u001b[0m\u001b[37m\u001b[0m \u001b[1m0s\u001b[0m 34ms/step\n",
      "\u001b[1m1/1\u001b[0m \u001b[32m━━━━━━━━━━━━━━━━━━━━\u001b[0m\u001b[37m\u001b[0m \u001b[1m0s\u001b[0m 29ms/step\n"
     ]
    },
    {
     "data": {
      "image/png": "[encoded data removed]",
      "text/plain": [
       "<Figure size 1500x300 with 5 Axes>"
      ]
     },
     "metadata": {},
     "output_type": "display_data"
    }
   ],
   "source": [
    "indices = [18, 25, 43, 8, 33]  \n",
    "\n",
    "fig, axes = plt.subplots(1, 5, figsize=(15, 3))\n",
    "\n",
    "for i, index in enumerate(indices):\n",
    "    image = X_test[index]\n",
    "    image_reshaped = image.reshape(1, 28, 28, 1)\n",
    "    cnn_pred = cnn_classifier.predict(image_reshaped)\n",
    "\n",
    "    axes[i].imshow(image, cmap='gray')\n",
    "    axes[i].axis('off')\n",
    "    axes[i].set_title(f\"True: {y_test[index]}\\nPred: {cnn_pred[0]}\")\n",
    "\n",
    "plt.tight_layout()\n",
    "plt.show()\n"
   ]
  },
  {
   "cell_type": "markdown",
   "metadata": {},
   "source": [
    "#### In conclusion, CNN can build more informative features through multiple convolutional layers, improving prediction accuracy"
   ]
  }
 ],
 "metadata": {
  "kernelspec": {
   "display_name": ".venv",
   "language": "python",
   "name": "python3"
  },
  "language_info": {
   "codemirror_mode": {
    "name": "ipython",
    "version": 3
   },
   "file_extension": ".py",
   "mimetype": "text/x-python",
   "name": "python",
   "nbconvert_exporter": "python",
   "pygments_lexer": "ipython3",
   "version": "3.12.4"
  }
 },
 "nbformat": 4,
 "nbformat_minor": 2
}
